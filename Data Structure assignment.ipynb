{
 "cells": [
  {
   "cell_type": "markdown",
   "id": "7c6627e5",
   "metadata": {},
   "source": [
    "## Data Structure Task\n",
    "![](https://devopedia.org/images/article/41/8174.1595680354.png)\n",
    "\n",
    "\n",
    "\n"
   ]
  },
  {
   "cell_type": "markdown",
   "id": "21cf4040",
   "metadata": {},
   "source": [
    "# List"
   ]
  },
  {
   "cell_type": "code",
   "execution_count": 4,
   "id": "80157d46",
   "metadata": {},
   "outputs": [
    {
     "name": "stdout",
     "output_type": "stream",
     "text": [
      "grapes\n",
      "['kiwi', 'grapes', 'orange', 'mango', 'banana']\n",
      "['kiwi', 'grapes', 'orange', 'mango']\n"
     ]
    }
   ],
   "source": [
    "# Creation: Create a list of your favorite fruits\n",
    "\n",
    "my_fav_fruits = [\"kiwi\", \"grapes\", \"litchi\", \"mango\", \"banana\"]\n",
    "\n",
    "\n",
    "# Access: Access the second item in the list.\n",
    "\n",
    "print(my_fav_fruits[1])\n",
    "\n",
    "# Update: Change the third item to \"orange\".\n",
    "\n",
    "my_fav_fruits[2] = \"orange\"\n",
    "print(my_fav_fruits)\n",
    "\n",
    "#Remove: Remove the first item from the list.\n",
    "my_fav_fruits.remove(\"banana\")\n",
    "print(my_fav_fruits)"
   ]
  },
  {
   "cell_type": "markdown",
   "id": "060b720b",
   "metadata": {},
   "source": [
    "# Tuples"
   ]
  },
  {
   "cell_type": "code",
   "execution_count": 5,
   "id": "2b40264b",
   "metadata": {},
   "outputs": [
    {
     "name": "stdout",
     "output_type": "stream",
     "text": [
      "white\n"
     ]
    },
    {
     "ename": "TypeError",
     "evalue": "'tuple' object does not support item assignment",
     "output_type": "error",
     "traceback": [
      "\u001b[1;31m---------------------------------------------------------------------------\u001b[0m",
      "\u001b[1;31mTypeError\u001b[0m                                 Traceback (most recent call last)",
      "Cell \u001b[1;32mIn[5], line 8\u001b[0m\n\u001b[0;32m      5\u001b[0m \u001b[38;5;28mprint\u001b[39m(three_diff_colors[\u001b[38;5;241m2\u001b[39m])\n\u001b[0;32m      7\u001b[0m \u001b[38;5;66;03m# Update: Try to change the second item to \"yellow\" and observe what happens. Expect something error\u001b[39;00m\n\u001b[1;32m----> 8\u001b[0m three_diff_colors[\u001b[38;5;241m1\u001b[39m] \u001b[38;5;241m=\u001b[39m \u001b[38;5;124m\"\u001b[39m\u001b[38;5;124mpurple\u001b[39m\u001b[38;5;124m\"\u001b[39m\n\u001b[0;32m      9\u001b[0m \u001b[38;5;28mprint\u001b[39m(three_diff_colors)\n\u001b[0;32m     11\u001b[0m \u001b[38;5;66;03m# Remove: Give reason why you can or can't\u001b[39;00m\n",
      "\u001b[1;31mTypeError\u001b[0m: 'tuple' object does not support item assignment"
     ]
    }
   ],
   "source": [
    "# Creation: Create a tuple with three different colors.\n",
    "three_diff_colors = (\"red\", \"green\", \"white\")\n",
    "\n",
    "# Access: Access the third item in the tuple.\n",
    "print(three_diff_colors[2])\n",
    "\n",
    "# Update: Try to change the second item to \"yellow\" and observe what happens. Expect something error\n",
    "three_diff_colors[1] = \"purple\"\n",
    "print(three_diff_colors)\n",
    "\n",
    "# Remove: Give reason why you can or can't\n",
    "one_of_the_feature_of_tuple_is_nonmutable"
   ]
  },
  {
   "cell_type": "markdown",
   "id": "0041fe8f",
   "metadata": {},
   "source": [
    "one_of_the_feature_of_tuple_is_nonmutable"
   ]
  },
  {
   "cell_type": "markdown",
   "id": "d9af3178",
   "metadata": {},
   "source": [
    "# SET"
   ]
  },
  {
   "cell_type": "code",
   "execution_count": null,
   "id": "c38b08db",
   "metadata": {},
   "outputs": [
    {
     "name": "stdout",
     "output_type": "stream",
     "text": [
      "True\n",
      "{'miracle in cell', 'run', 'her', 'pk', 'ohana', 'toy car'}\n",
      "{'run', 'her', 'pk', 'ohana', 'toy car'}\n"
     ]
    }
   ],
   "source": [
    "# Creation: Create a set of your favorite movies\n",
    "\n",
    "my_fav_movies = {\"her\", \"run\", \"pk\", \"toy car\", \"ohana\"}\n",
    "\n",
    "# Access: Check if your \"Toy Car\" is in the set.\n",
    "\n",
    "print(\"toy car\" in my_fav_movies)\n",
    "\n",
    "# Update: Add \"Miracle in Cell\" to the set.\n",
    "\n",
    "my_fav_movies.add(\"miracle in cell\")\n",
    "print(my_fav_movies)\n",
    "\n",
    "# Remove: Remove your least favorite movies.\n",
    "\n",
    "my_fav_movies.remove(\"miracle in cell\")\n",
    "print(my_fav_movies)\n"
   ]
  },
  {
   "cell_type": "markdown",
   "id": "77344d89",
   "metadata": {},
   "source": [
    "# Dictionary"
   ]
  },
  {
   "cell_type": "code",
   "execution_count": null,
   "id": "02ece1f6",
   "metadata": {},
   "outputs": [
    {
     "name": "stdout",
     "output_type": "stream",
     "text": [
      "23\n",
      "{'name': 'minda', 'age': '23', 'city': 'Los Angeles'}\n",
      "{'name': 'minda', 'city': 'Los Angeles'}\n"
     ]
    }
   ],
   "source": [
    "# Creation: Create a dictionary with three key-value pairs representing a person's details (e.g., name, age, city).\n",
    "\n",
    "person_details = {\"name\":\"minda\", \"age\":\"23\", \"city\":\"berlin\"}\n",
    "\n",
    "# Access: Access the person's age.\n",
    "\n",
    "print(person_details[\"age\"])\n",
    "\n",
    "# Update: Update the person's city to \"Los Angeles\".\n",
    "person_details[\"city\"] = \"Los Angeles\"\n",
    "print(person_details)\n",
    "\n",
    "# Remove: Remove the age key-value pair from the dictionary.\n",
    "del person_details[\"age\"]\n",
    "print(person_details)\n"
   ]
  },
  {
   "cell_type": "markdown",
   "id": "500d56c1",
   "metadata": {},
   "source": [
    "# List Compression"
   ]
  },
  {
   "cell_type": "code",
   "execution_count": 6,
   "id": "613b2228",
   "metadata": {},
   "outputs": [
    {
     "name": "stdout",
     "output_type": "stream",
     "text": [
      "[1, 4, 9, 16, 25, 36, 49, 64, 81, 100]\n"
     ]
    }
   ],
   "source": [
    "# Create a list of squares of numbers from 1 to 10.\n",
    "list_of_square_of_numbers = [number**2 for number in range(1, 11)]\n",
    "print(list_of_square_of_numbers)"
   ]
  },
  {
   "cell_type": "code",
   "execution_count": null,
   "id": "045e1139",
   "metadata": {},
   "outputs": [
    {
     "name": "stdout",
     "output_type": "stream",
     "text": [
      "['HELLO', 'WORLD', 'PYTHON', 'LIST', 'COMPREHENSION']\n"
     ]
    }
   ],
   "source": [
    "# Explain in the markdown what is happening in this code\n",
    "\n",
    "words = [\"hello\", \"world\", \"python\", \"list\", \"comprehension\"]\n",
    "uppercase_words = [word.upper() for word in words]\n",
    "print(uppercase_words)"
   ]
  },
  {
   "cell_type": "markdown",
   "id": "7ec756c9",
   "metadata": {},
   "source": [
    "the first line creates a list named \"words\" containing five \"strings\".\n",
    "second line uppercase_words contain code to change above given string into uppercase form. [word.upper()for word in words] \n",
    "third line provide output of first line.\n"
   ]
  },
  {
   "cell_type": "code",
   "execution_count": null,
   "id": "a8dd5d24",
   "metadata": {},
   "outputs": [
    {
     "name": "stdout",
     "output_type": "stream",
     "text": [
      "['KIWI', 'GRAPES', 'LITCHI', 'MANGO', 'BANANA']\n"
     ]
    }
   ],
   "source": [
    "words = [\"kiwi\", \"grapes\", \"litchi\", \"mango\", \"banana\"]\n",
    "uppercase_words = [word.upper() for word in words]\n",
    "print(uppercase_words)"
   ]
  },
  {
   "cell_type": "markdown",
   "id": "ba2862ba",
   "metadata": {},
   "source": [
    "> Submit to the email"
   ]
  },
  {
   "cell_type": "markdown",
   "id": "ec934c15",
   "metadata": {},
   "source": [
    "Recommended Reading\n",
    "\n",
    "https://www.stationx.net/python-data-structures-cheat-sheet/"
   ]
  },
  {
   "cell_type": "code",
   "execution_count": null,
   "id": "14f2d037",
   "metadata": {},
   "outputs": [],
   "source": []
  }
 ],
 "metadata": {
  "kernelspec": {
   "display_name": "Python 3 (ipykernel)",
   "language": "python",
   "name": "python3"
  },
  "language_info": {
   "codemirror_mode": {
    "name": "ipython",
    "version": 3
   },
   "file_extension": ".py",
   "mimetype": "text/x-python",
   "name": "python",
   "nbconvert_exporter": "python",
   "pygments_lexer": "ipython3",
   "version": "3.11.7"
  }
 },
 "nbformat": 4,
 "nbformat_minor": 5
}
